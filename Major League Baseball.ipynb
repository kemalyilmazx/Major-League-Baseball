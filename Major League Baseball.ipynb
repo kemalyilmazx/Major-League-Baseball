{
 "cells": [
  {
   "cell_type": "code",
   "execution_count": 1,
   "metadata": {
    "collapsed": true
   },
   "outputs": [],
   "source": [
    "import pandas as pd\n",
    "import numpy as np\n",
    "import seaborn as sns\n",
    "import matplotlib.pyplot as plt\n",
    "%matplotlib inline"
   ]
  },
  {
   "cell_type": "code",
   "execution_count": 2,
   "metadata": {
    "collapsed": true
   },
   "outputs": [],
   "source": [
    "mlb= pd.read_csv(\"mlb.csv\")"
   ]
  },
  {
   "cell_type": "code",
   "execution_count": 3,
   "metadata": {},
   "outputs": [
    {
     "data": {
      "text/html": [
       "<div>\n",
       "<style scoped>\n",
       "    .dataframe tbody tr th:only-of-type {\n",
       "        vertical-align: middle;\n",
       "    }\n",
       "\n",
       "    .dataframe tbody tr th {\n",
       "        vertical-align: top;\n",
       "    }\n",
       "\n",
       "    .dataframe thead th {\n",
       "        text-align: right;\n",
       "    }\n",
       "</style>\n",
       "<table border=\"1\" class=\"dataframe\">\n",
       "  <thead>\n",
       "    <tr style=\"text-align: right;\">\n",
       "      <th></th>\n",
       "      <th>Unnamed: 0</th>\n",
       "      <th>Name</th>\n",
       "      <th>Team</th>\n",
       "      <th>Position</th>\n",
       "      <th>Height</th>\n",
       "      <th>Weight</th>\n",
       "      <th>Age</th>\n",
       "      <th>PosCategory</th>\n",
       "    </tr>\n",
       "  </thead>\n",
       "  <tbody>\n",
       "    <tr>\n",
       "      <th>0</th>\n",
       "      <td>1</td>\n",
       "      <td>Adam_Donachie</td>\n",
       "      <td>BAL</td>\n",
       "      <td>Catcher</td>\n",
       "      <td>74</td>\n",
       "      <td>180</td>\n",
       "      <td>22.99</td>\n",
       "      <td>Catcher</td>\n",
       "    </tr>\n",
       "    <tr>\n",
       "      <th>1</th>\n",
       "      <td>2</td>\n",
       "      <td>Paul_Bako</td>\n",
       "      <td>BAL</td>\n",
       "      <td>Catcher</td>\n",
       "      <td>74</td>\n",
       "      <td>215</td>\n",
       "      <td>34.69</td>\n",
       "      <td>Catcher</td>\n",
       "    </tr>\n",
       "    <tr>\n",
       "      <th>2</th>\n",
       "      <td>3</td>\n",
       "      <td>Ramon_Hernandez</td>\n",
       "      <td>BAL</td>\n",
       "      <td>Catcher</td>\n",
       "      <td>72</td>\n",
       "      <td>210</td>\n",
       "      <td>30.78</td>\n",
       "      <td>Catcher</td>\n",
       "    </tr>\n",
       "    <tr>\n",
       "      <th>3</th>\n",
       "      <td>4</td>\n",
       "      <td>Kevin_Millar</td>\n",
       "      <td>BAL</td>\n",
       "      <td>First_Baseman</td>\n",
       "      <td>72</td>\n",
       "      <td>210</td>\n",
       "      <td>35.43</td>\n",
       "      <td>Infielder</td>\n",
       "    </tr>\n",
       "    <tr>\n",
       "      <th>4</th>\n",
       "      <td>5</td>\n",
       "      <td>Chris_Gomez</td>\n",
       "      <td>BAL</td>\n",
       "      <td>First_Baseman</td>\n",
       "      <td>73</td>\n",
       "      <td>188</td>\n",
       "      <td>35.71</td>\n",
       "      <td>Infielder</td>\n",
       "    </tr>\n",
       "  </tbody>\n",
       "</table>\n",
       "</div>"
      ],
      "text/plain": [
       "   Unnamed: 0             Name Team       Position  Height  Weight    Age  \\\n",
       "0           1    Adam_Donachie  BAL        Catcher      74     180  22.99   \n",
       "1           2        Paul_Bako  BAL        Catcher      74     215  34.69   \n",
       "2           3  Ramon_Hernandez  BAL        Catcher      72     210  30.78   \n",
       "3           4     Kevin_Millar  BAL  First_Baseman      72     210  35.43   \n",
       "4           5      Chris_Gomez  BAL  First_Baseman      73     188  35.71   \n",
       "\n",
       "  PosCategory  \n",
       "0     Catcher  \n",
       "1     Catcher  \n",
       "2     Catcher  \n",
       "3   Infielder  \n",
       "4   Infielder  "
      ]
     },
     "execution_count": 3,
     "metadata": {},
     "output_type": "execute_result"
    }
   ],
   "source": [
    "mlb.head()"
   ]
  },
  {
   "cell_type": "code",
   "execution_count": 4,
   "metadata": {},
   "outputs": [
    {
     "name": "stdout",
     "output_type": "stream",
     "text": [
      "<class 'pandas.core.frame.DataFrame'>\n",
      "RangeIndex: 1015 entries, 0 to 1014\n",
      "Data columns (total 8 columns):\n",
      "Unnamed: 0     1015 non-null int64\n",
      "Name           1015 non-null object\n",
      "Team           1015 non-null object\n",
      "Position       1015 non-null object\n",
      "Height         1015 non-null int64\n",
      "Weight         1015 non-null int64\n",
      "Age            1015 non-null float64\n",
      "PosCategory    1015 non-null object\n",
      "dtypes: float64(1), int64(3), object(4)\n",
      "memory usage: 63.5+ KB\n"
     ]
    }
   ],
   "source": [
    "mlb.info()"
   ]
  },
  {
   "cell_type": "code",
   "execution_count": 5,
   "metadata": {},
   "outputs": [
    {
     "data": {
      "text/html": [
       "<div>\n",
       "<style scoped>\n",
       "    .dataframe tbody tr th:only-of-type {\n",
       "        vertical-align: middle;\n",
       "    }\n",
       "\n",
       "    .dataframe tbody tr th {\n",
       "        vertical-align: top;\n",
       "    }\n",
       "\n",
       "    .dataframe thead th {\n",
       "        text-align: right;\n",
       "    }\n",
       "</style>\n",
       "<table border=\"1\" class=\"dataframe\">\n",
       "  <thead>\n",
       "    <tr style=\"text-align: right;\">\n",
       "      <th></th>\n",
       "      <th>Unnamed: 0</th>\n",
       "      <th>Height</th>\n",
       "      <th>Weight</th>\n",
       "      <th>Age</th>\n",
       "    </tr>\n",
       "  </thead>\n",
       "  <tbody>\n",
       "    <tr>\n",
       "      <th>count</th>\n",
       "      <td>1015.000000</td>\n",
       "      <td>1015.000000</td>\n",
       "      <td>1015.000000</td>\n",
       "      <td>1015.000000</td>\n",
       "    </tr>\n",
       "    <tr>\n",
       "      <th>mean</th>\n",
       "      <td>520.324138</td>\n",
       "      <td>73.689655</td>\n",
       "      <td>201.348768</td>\n",
       "      <td>28.708355</td>\n",
       "    </tr>\n",
       "    <tr>\n",
       "      <th>std</th>\n",
       "      <td>298.814526</td>\n",
       "      <td>2.313932</td>\n",
       "      <td>20.823115</td>\n",
       "      <td>4.314453</td>\n",
       "    </tr>\n",
       "    <tr>\n",
       "      <th>min</th>\n",
       "      <td>1.000000</td>\n",
       "      <td>67.000000</td>\n",
       "      <td>150.000000</td>\n",
       "      <td>20.900000</td>\n",
       "    </tr>\n",
       "    <tr>\n",
       "      <th>25%</th>\n",
       "      <td>262.500000</td>\n",
       "      <td>72.000000</td>\n",
       "      <td>186.000000</td>\n",
       "      <td>25.405000</td>\n",
       "    </tr>\n",
       "    <tr>\n",
       "      <th>50%</th>\n",
       "      <td>523.000000</td>\n",
       "      <td>74.000000</td>\n",
       "      <td>200.000000</td>\n",
       "      <td>27.900000</td>\n",
       "    </tr>\n",
       "    <tr>\n",
       "      <th>75%</th>\n",
       "      <td>778.500000</td>\n",
       "      <td>75.000000</td>\n",
       "      <td>215.000000</td>\n",
       "      <td>31.190000</td>\n",
       "    </tr>\n",
       "    <tr>\n",
       "      <th>max</th>\n",
       "      <td>1034.000000</td>\n",
       "      <td>83.000000</td>\n",
       "      <td>290.000000</td>\n",
       "      <td>48.520000</td>\n",
       "    </tr>\n",
       "  </tbody>\n",
       "</table>\n",
       "</div>"
      ],
      "text/plain": [
       "        Unnamed: 0       Height       Weight          Age\n",
       "count  1015.000000  1015.000000  1015.000000  1015.000000\n",
       "mean    520.324138    73.689655   201.348768    28.708355\n",
       "std     298.814526     2.313932    20.823115     4.314453\n",
       "min       1.000000    67.000000   150.000000    20.900000\n",
       "25%     262.500000    72.000000   186.000000    25.405000\n",
       "50%     523.000000    74.000000   200.000000    27.900000\n",
       "75%     778.500000    75.000000   215.000000    31.190000\n",
       "max    1034.000000    83.000000   290.000000    48.520000"
      ]
     },
     "execution_count": 5,
     "metadata": {},
     "output_type": "execute_result"
    }
   ],
   "source": [
    "mlb.describe()"
   ]
  },
  {
   "cell_type": "code",
   "execution_count": 6,
   "metadata": {
    "collapsed": true
   },
   "outputs": [],
   "source": [
    "## By height and age, we will predict weight.\n",
    "X = mlb[[\"Height\", \"Age\"]]\n",
    "y= mlb[\"Weight\"]"
   ]
  },
  {
   "cell_type": "code",
   "execution_count": 7,
   "metadata": {},
   "outputs": [
    {
     "name": "stderr",
     "output_type": "stream",
     "text": [
      "C:\\Users\\Mehmet\\Anaconda3\\lib\\site-packages\\sklearn\\cross_validation.py:44: DeprecationWarning: This module was deprecated in version 0.18 in favor of the model_selection module into which all the refactored classes and functions are moved. Also note that the interface of the new CV iterators are different from that of this module. This module will be removed in 0.20.\n",
      "  \"This module will be removed in 0.20.\", DeprecationWarning)\n"
     ]
    }
   ],
   "source": [
    "from sklearn.linear_model import LinearRegression\n",
    "from sklearn.cross_validation import train_test_split"
   ]
  },
  {
   "cell_type": "code",
   "execution_count": 8,
   "metadata": {
    "collapsed": true
   },
   "outputs": [],
   "source": [
    "## We will run linear model for different test sizes and random states and compare parameters.\n",
    "X1_train, X1_test, y1_train, y1_test = train_test_split(X, y, test_size=0.5, random_state=66)\n",
    "X2_train, X2_test, y2_train, y2_test = train_test_split(X, y, test_size=0.5, random_state=101)\n",
    "X3_train, X3_test, y3_train, y3_test = train_test_split(X, y, test_size=0.5, random_state=666)\n",
    "X4_train, X4_test, y4_train, y4_test = train_test_split(X, y, test_size=0.7, random_state=66)\n",
    "X5_train, X5_test, y5_train, y5_test = train_test_split(X, y, test_size=0.7, random_state=101)\n",
    "X6_train, X6_test, y6_train, y6_test = train_test_split(X, y, test_size=0.7, random_state=666)"
   ]
  },
  {
   "cell_type": "code",
   "execution_count": 10,
   "metadata": {
    "collapsed": true
   },
   "outputs": [],
   "source": [
    "## Fitting models\n",
    "linear_model1 = LinearRegression().fit(X1_train, y1_train)\n",
    "linear_model2 = LinearRegression().fit(X2_train, y2_train)\n",
    "linear_model3 = LinearRegression().fit(X3_train, y3_train)\n",
    "linear_model4 = LinearRegression().fit(X4_train, y4_train)\n",
    "linear_model5 = LinearRegression().fit(X5_train, y5_train)\n",
    "linear_model6 = LinearRegression().fit(X6_train, y6_train)"
   ]
  },
  {
   "cell_type": "code",
   "execution_count": 11,
   "metadata": {
    "collapsed": true
   },
   "outputs": [],
   "source": [
    "intercept = pd.DataFrame([linear_model1.intercept_, linear_model2.intercept_, linear_model3.intercept_,\n",
    "                          linear_model4.intercept_, linear_model5.intercept_, linear_model6.intercept_])"
   ]
  },
  {
   "cell_type": "code",
   "execution_count": 12,
   "metadata": {
    "collapsed": true
   },
   "outputs": [],
   "source": [
    "height = pd.DataFrame([linear_model1.coef_[0], linear_model2.coef_[0], linear_model3.coef_[0],\n",
    "                       linear_model3.coef_[0], linear_model4.coef_[0], linear_model6.coef_[0]])"
   ]
  },
  {
   "cell_type": "code",
   "execution_count": 13,
   "metadata": {
    "collapsed": true
   },
   "outputs": [],
   "source": [
    "age = pd.DataFrame([linear_model1.coef_[1], linear_model2.coef_[1], linear_model3.coef_[1],\n",
    "                       linear_model3.coef_[1], linear_model4.coef_[1], linear_model6.coef_[1]])"
   ]
  },
  {
   "cell_type": "code",
   "execution_count": 14,
   "metadata": {
    "collapsed": true
   },
   "outputs": [],
   "source": [
    "score = pd.DataFrame([linear_model1.score(X1_test, y1_test), linear_model2.score(X2_test, y2_test),\n",
    "                      linear_model3.score(X3_test, y3_test), linear_model4.score(X4_test, y4_test),\n",
    "                      linear_model5.score(X5_test, y5_test), linear_model6.score(X6_test, y6_test)])"
   ]
  },
  {
   "cell_type": "code",
   "execution_count": 15,
   "metadata": {},
   "outputs": [
    {
     "data": {
      "text/html": [
       "<div>\n",
       "<style scoped>\n",
       "    .dataframe tbody tr th:only-of-type {\n",
       "        vertical-align: middle;\n",
       "    }\n",
       "\n",
       "    .dataframe tbody tr th {\n",
       "        vertical-align: top;\n",
       "    }\n",
       "\n",
       "    .dataframe thead th {\n",
       "        text-align: right;\n",
       "    }\n",
       "</style>\n",
       "<table border=\"1\" class=\"dataframe\">\n",
       "  <thead>\n",
       "    <tr style=\"text-align: right;\">\n",
       "      <th></th>\n",
       "      <th>intercept</th>\n",
       "      <th>height</th>\n",
       "      <th>age</th>\n",
       "      <th>score</th>\n",
       "    </tr>\n",
       "  </thead>\n",
       "  <tbody>\n",
       "    <tr>\n",
       "      <th>Model1</th>\n",
       "      <td>-229.901043</td>\n",
       "      <td>5.394854</td>\n",
       "      <td>1.197423</td>\n",
       "      <td>0.245405</td>\n",
       "    </tr>\n",
       "    <tr>\n",
       "      <th>Model2</th>\n",
       "      <td>-189.520544</td>\n",
       "      <td>4.941593</td>\n",
       "      <td>0.909490</td>\n",
       "      <td>0.318708</td>\n",
       "    </tr>\n",
       "    <tr>\n",
       "      <th>Model3</th>\n",
       "      <td>-171.724362</td>\n",
       "      <td>4.682776</td>\n",
       "      <td>0.991229</td>\n",
       "      <td>0.337712</td>\n",
       "    </tr>\n",
       "    <tr>\n",
       "      <th>Model4</th>\n",
       "      <td>-232.466267</td>\n",
       "      <td>4.682776</td>\n",
       "      <td>0.991229</td>\n",
       "      <td>0.287557</td>\n",
       "    </tr>\n",
       "    <tr>\n",
       "      <th>Model5</th>\n",
       "      <td>-207.856288</td>\n",
       "      <td>5.467600</td>\n",
       "      <td>1.112309</td>\n",
       "      <td>0.311112</td>\n",
       "    </tr>\n",
       "    <tr>\n",
       "      <th>Model6</th>\n",
       "      <td>-185.104042</td>\n",
       "      <td>4.843589</td>\n",
       "      <td>1.033657</td>\n",
       "      <td>0.311363</td>\n",
       "    </tr>\n",
       "  </tbody>\n",
       "</table>\n",
       "</div>"
      ],
      "text/plain": [
       "         intercept    height       age     score\n",
       "Model1 -229.901043  5.394854  1.197423  0.245405\n",
       "Model2 -189.520544  4.941593  0.909490  0.318708\n",
       "Model3 -171.724362  4.682776  0.991229  0.337712\n",
       "Model4 -232.466267  4.682776  0.991229  0.287557\n",
       "Model5 -207.856288  5.467600  1.112309  0.311112\n",
       "Model6 -185.104042  4.843589  1.033657  0.311363"
      ]
     },
     "execution_count": 15,
     "metadata": {},
     "output_type": "execute_result"
    }
   ],
   "source": [
    "comparison = pd.concat([intercept, height, age, score], axis=1)\n",
    "comparison.columns = [\"intercept\", \"height\", \"age\", \"score\"]\n",
    "comparison.index= [\"Model1\", \"Model2\", \"Model3\", \"Model4\", \"Model5\", \"Model6\"]\n",
    "comparison"
   ]
  },
  {
   "cell_type": "code",
   "execution_count": 16,
   "metadata": {
    "collapsed": true
   },
   "outputs": [],
   "source": [
    "## Saving predictions just in case\n",
    "predictions1 = linear_model1.predict(X1_test)\n",
    "predictions2 = linear_model2.predict(X2_test)\n",
    "predictions3 = linear_model3.predict(X3_test)\n",
    "predictions4 = linear_model4.predict(X4_test)\n",
    "predictions5 = linear_model5.predict(X5_test)\n",
    "predictions6 = linear_model6.predict(X6_test)"
   ]
  },
  {
   "cell_type": "code",
   "execution_count": null,
   "metadata": {
    "collapsed": true
   },
   "outputs": [],
   "source": []
  }
 ],
 "metadata": {
  "kernelspec": {
   "display_name": "Python 3",
   "language": "python",
   "name": "python3"
  },
  "language_info": {
   "codemirror_mode": {
    "name": "ipython",
    "version": 3
   },
   "file_extension": ".py",
   "mimetype": "text/x-python",
   "name": "python",
   "nbconvert_exporter": "python",
   "pygments_lexer": "ipython3",
   "version": "3.6.1"
  }
 },
 "nbformat": 4,
 "nbformat_minor": 2
}
